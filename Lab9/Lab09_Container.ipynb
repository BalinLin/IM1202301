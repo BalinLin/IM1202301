{
 "cells": [
  {
   "cell_type": "markdown",
   "metadata": {},
   "source": [
    "# Data type : Tuple"
   ]
  },
  {
   "cell_type": "markdown",
   "metadata": {},
   "source": [
    "### Empty Tuple"
   ]
  },
  {
   "cell_type": "code",
   "execution_count": 19,
   "metadata": {},
   "outputs": [
    {
     "name": "stdout",
     "output_type": "stream",
     "text": [
      "<class 'tuple'> ()\n",
      "<class 'tuple'> ()\n"
     ]
    }
   ],
   "source": [
    "TUPLE = tuple()\n",
    "print(type(TUPLE), TUPLE)\n",
    "TUPLE = ()\n",
    "print(type(TUPLE), TUPLE)"
   ]
  },
  {
   "cell_type": "markdown",
   "metadata": {},
   "source": [
    "### tuple is a read only list"
   ]
  },
  {
   "cell_type": "code",
   "execution_count": 20,
   "metadata": {},
   "outputs": [
    {
     "data": {
      "text/plain": [
       "[0, 1, 2, 3, 4, 5, 6, 7, 8, 9]"
      ]
     },
     "execution_count": 20,
     "metadata": {},
     "output_type": "execute_result"
    }
   ],
   "source": [
    "LIST = list(range(10))\n",
    "LIST"
   ]
  },
  {
   "cell_type": "code",
   "execution_count": 21,
   "metadata": {},
   "outputs": [
    {
     "data": {
      "text/plain": [
       "(0, 1, 2, 3, 4, 5, 6, 7, 8, 9)"
      ]
     },
     "execution_count": 21,
     "metadata": {},
     "output_type": "execute_result"
    }
   ],
   "source": [
    "TUPLE = tuple(range(10))\n",
    "TUPLE"
   ]
  },
  {
   "cell_type": "code",
   "execution_count": 22,
   "metadata": {},
   "outputs": [
    {
     "data": {
      "text/plain": [
       "[0, None, 2, 3, 4, 5, 6, 7, 8, 9]"
      ]
     },
     "execution_count": 22,
     "metadata": {},
     "output_type": "execute_result"
    }
   ],
   "source": [
    "LIST[1] = None\n",
    "LIST"
   ]
  },
  {
   "cell_type": "code",
   "execution_count": 23,
   "metadata": {
    "scrolled": true
   },
   "outputs": [
    {
     "ename": "TypeError",
     "evalue": "'tuple' object does not support item assignment",
     "output_type": "error",
     "traceback": [
      "\u001b[1;31m---------------------------------------------------------------------------\u001b[0m",
      "\u001b[1;31mTypeError\u001b[0m                                 Traceback (most recent call last)",
      "\u001b[1;32m<ipython-input-23-c2c13cfa5d35>\u001b[0m in \u001b[0;36m<module>\u001b[1;34m\u001b[0m\n\u001b[1;32m----> 1\u001b[1;33m \u001b[0mTUPLE\u001b[0m\u001b[1;33m[\u001b[0m\u001b[1;36m1\u001b[0m\u001b[1;33m]\u001b[0m \u001b[1;33m=\u001b[0m \u001b[1;32mNone\u001b[0m\u001b[1;33m\u001b[0m\u001b[1;33m\u001b[0m\u001b[0m\n\u001b[0m\u001b[0;32m      2\u001b[0m \u001b[0mTUPLE\u001b[0m\u001b[1;33m\u001b[0m\u001b[1;33m\u001b[0m\u001b[0m\n",
      "\u001b[1;31mTypeError\u001b[0m: 'tuple' object does not support item assignment"
     ]
    }
   ],
   "source": [
    "TUPLE[1] = None\n",
    "TUPLE"
   ]
  },
  {
   "cell_type": "markdown",
   "metadata": {},
   "source": [
    "# Data type : Set"
   ]
  },
  {
   "cell_type": "markdown",
   "metadata": {},
   "source": [
    "### Empty Set (warining: it's qite smiliar wtih dictionary)"
   ]
  },
  {
   "cell_type": "code",
   "execution_count": 25,
   "metadata": {},
   "outputs": [
    {
     "name": "stdout",
     "output_type": "stream",
     "text": [
      "<class 'set'> set()\n",
      "<class 'dict'> {}\n"
     ]
    }
   ],
   "source": [
    "SET = set()\n",
    "print(type(SET), SET)\n",
    "SET = {}\n",
    "print(type(SET), SET)"
   ]
  },
  {
   "cell_type": "code",
   "execution_count": 35,
   "metadata": {},
   "outputs": [
    {
     "name": "stdout",
     "output_type": "stream",
     "text": [
      "<class 'set'> {1, 2, 3, 4, 5}\n",
      "<class 'set'> {1, 2, 3, 4, 5}\n",
      "<class 'set'> {1, 2, 3, 4, 5}\n"
     ]
    }
   ],
   "source": [
    "my_set = {1,1,2,3,4,5}\n",
    "print(type(my_set), my_set)\n",
    "\n",
    "my_set = set([1,1,2,3,4,5])\n",
    "print(type(my_set), my_set)\n",
    "\n",
    "my_set = set((1,1,2,3,4,5))\n",
    "print(type(my_set), my_set)"
   ]
  },
  {
   "cell_type": "markdown",
   "metadata": {},
   "source": [
    "### Add/Delete element"
   ]
  },
  {
   "cell_type": "code",
   "execution_count": 36,
   "metadata": {},
   "outputs": [
    {
     "name": "stdout",
     "output_type": "stream",
     "text": [
      "{'A', 'B', 'C'}\n",
      "{'A', 'B', 'C'}\n"
     ]
    }
   ],
   "source": [
    "A_set = set()\n",
    "A_set.add('A')\n",
    "A_set.add('B')\n",
    "A_set.add('C')\n",
    "print(A_set)\n",
    "\n",
    "A_set.add('C')\n",
    "print(A_set)"
   ]
  },
  {
   "cell_type": "code",
   "execution_count": 37,
   "metadata": {},
   "outputs": [
    {
     "name": "stdout",
     "output_type": "stream",
     "text": [
      "{'A', 'C'}\n"
     ]
    },
    {
     "ename": "KeyError",
     "evalue": "'B'",
     "output_type": "error",
     "traceback": [
      "\u001b[1;31m---------------------------------------------------------------------------\u001b[0m",
      "\u001b[1;31mKeyError\u001b[0m                                  Traceback (most recent call last)",
      "\u001b[1;32m<ipython-input-37-1cd962f74389>\u001b[0m in \u001b[0;36m<module>\u001b[1;34m\u001b[0m\n\u001b[0;32m      3\u001b[0m \u001b[0mprint\u001b[0m\u001b[1;33m(\u001b[0m\u001b[0mA_set\u001b[0m\u001b[1;33m)\u001b[0m\u001b[1;33m\u001b[0m\u001b[1;33m\u001b[0m\u001b[0m\n\u001b[0;32m      4\u001b[0m \u001b[1;33m\u001b[0m\u001b[0m\n\u001b[1;32m----> 5\u001b[1;33m \u001b[0mA_set\u001b[0m\u001b[1;33m.\u001b[0m\u001b[0mremove\u001b[0m\u001b[1;33m(\u001b[0m\u001b[1;34m'B'\u001b[0m\u001b[1;33m)\u001b[0m\u001b[1;33m\u001b[0m\u001b[1;33m\u001b[0m\u001b[0m\n\u001b[0m\u001b[0;32m      6\u001b[0m \u001b[0mprint\u001b[0m\u001b[1;33m(\u001b[0m\u001b[0mA_set\u001b[0m\u001b[1;33m)\u001b[0m\u001b[1;33m\u001b[0m\u001b[1;33m\u001b[0m\u001b[0m\n",
      "\u001b[1;31mKeyError\u001b[0m: 'B'"
     ]
    }
   ],
   "source": [
    "A_set = {'A', 'B', 'C'}\n",
    "A_set.remove('B')\n",
    "print(A_set)\n",
    "\n",
    "A_set.remove('B')\n",
    "print(A_set)"
   ]
  },
  {
   "cell_type": "markdown",
   "metadata": {},
   "source": [
    "### Iterator"
   ]
  },
  {
   "cell_type": "code",
   "execution_count": 42,
   "metadata": {},
   "outputs": [
    {
     "name": "stdout",
     "output_type": "stream",
     "text": [
      "A\n",
      "B\n",
      "C\n"
     ]
    }
   ],
   "source": [
    "A_set = {'C', 'B', 'A'}\n",
    "for i in A_set:\n",
    "    print(i)"
   ]
  },
  {
   "cell_type": "markdown",
   "metadata": {},
   "source": [
    "# Mathmatical Function\n",
    "### ‧  intersection"
   ]
  },
  {
   "cell_type": "code",
   "execution_count": 53,
   "metadata": {},
   "outputs": [
    {
     "data": {
      "text/plain": [
       "{4, 5}"
      ]
     },
     "execution_count": 53,
     "metadata": {},
     "output_type": "execute_result"
    }
   ],
   "source": [
    "num1 = {1,2,3,4,5}\n",
    "num2 = {4,5,6,7,8}\n",
    "num1.intersection(num2)"
   ]
  },
  {
   "cell_type": "code",
   "execution_count": 54,
   "metadata": {},
   "outputs": [
    {
     "data": {
      "text/plain": [
       "{4, 5}"
      ]
     },
     "execution_count": 54,
     "metadata": {},
     "output_type": "execute_result"
    }
   ],
   "source": [
    "num1 & num2"
   ]
  },
  {
   "cell_type": "markdown",
   "metadata": {},
   "source": [
    "### ‧  union"
   ]
  },
  {
   "cell_type": "code",
   "execution_count": 55,
   "metadata": {},
   "outputs": [
    {
     "data": {
      "text/plain": [
       "{1, 2, 3, 4, 5, 6, 7, 8}"
      ]
     },
     "execution_count": 55,
     "metadata": {},
     "output_type": "execute_result"
    }
   ],
   "source": [
    "num1 = {1,2,3,4,5}\n",
    "num2 = {4,5,6,7,8}\n",
    "num1 | num2 #num1.union(num2)"
   ]
  },
  {
   "cell_type": "code",
   "execution_count": 56,
   "metadata": {},
   "outputs": [
    {
     "data": {
      "text/plain": [
       "{1, 2, 3, 4, 5, 6, 7, 8}"
      ]
     },
     "execution_count": 56,
     "metadata": {},
     "output_type": "execute_result"
    }
   ],
   "source": [
    "num1 = {1,2,3,4,5}\n",
    "num2 = {4,5,6,7,8}\n",
    "num1.union(num2)"
   ]
  },
  {
   "cell_type": "markdown",
   "metadata": {},
   "source": [
    "### ‧  relative difference"
   ]
  },
  {
   "cell_type": "code",
   "execution_count": 57,
   "metadata": {},
   "outputs": [
    {
     "data": {
      "text/plain": [
       "{1, 2, 3}"
      ]
     },
     "execution_count": 57,
     "metadata": {},
     "output_type": "execute_result"
    }
   ],
   "source": [
    "num1 = {1,2,3,4,5}\n",
    "num2 = {4,5,6,7,8}\n",
    "num1 - num2"
   ]
  },
  {
   "cell_type": "code",
   "execution_count": 58,
   "metadata": {},
   "outputs": [
    {
     "data": {
      "text/plain": [
       "{6, 7, 8}"
      ]
     },
     "execution_count": 58,
     "metadata": {},
     "output_type": "execute_result"
    }
   ],
   "source": [
    "num1 = {1,2,3,4,5}\n",
    "num2 = {4,5,6,7,8}\n",
    "num2 - num1"
   ]
  },
  {
   "cell_type": "markdown",
   "metadata": {},
   "source": [
    "### ‧  symmetric difference"
   ]
  },
  {
   "cell_type": "code",
   "execution_count": 59,
   "metadata": {},
   "outputs": [
    {
     "data": {
      "text/plain": [
       "{1, 2, 3, 6, 7, 8}"
      ]
     },
     "execution_count": 59,
     "metadata": {},
     "output_type": "execute_result"
    }
   ],
   "source": [
    "num1 = {1,2,3,4,5}\n",
    "num2 = {4,5,6,7,8}\n",
    "num1 ^ num2"
   ]
  },
  {
   "cell_type": "code",
   "execution_count": 60,
   "metadata": {},
   "outputs": [
    {
     "data": {
      "text/plain": [
       "{1, 2, 3, 6, 7, 8}"
      ]
     },
     "execution_count": 60,
     "metadata": {},
     "output_type": "execute_result"
    }
   ],
   "source": [
    "num1 = {1,2,3,4,5}\n",
    "num2 = {4,5,6,7,8}\n",
    "num1.symmetric_difference(num2)"
   ]
  },
  {
   "attachments": {},
   "cell_type": "markdown",
   "metadata": {},
   "source": [
    "# Practice 1\n",
    "### You are given a list of integers L = [1, 1, 3, 2, 1, 5, 6, 9, 2, 4, 6, 3, 6, 8, 3, 5, 2, 20],\n",
    "### Please answer the following question: \n",
    "### Q1: How many duplicate number in the list?"
   ]
  },
  {
   "cell_type": "code",
   "execution_count": 76,
   "metadata": {},
   "outputs": [
    {
     "name": "stdout",
     "output_type": "stream",
     "text": [
      "9\n"
     ]
    }
   ],
   "source": [
    "L = [1, 1, 3, 2, 1, 5, 6, 9, 2, 4, 6, 3, 6, 8, 3, 5, 2, 20]\n",
    "print(len(L) - len(set(L)))"
   ]
  },
  {
   "attachments": {},
   "cell_type": "markdown",
   "metadata": {},
   "source": [
    "### Q2: Print sum of non-duplicate L. "
   ]
  },
  {
   "cell_type": "code",
   "execution_count": 77,
   "metadata": {},
   "outputs": [
    {
     "name": "stdout",
     "output_type": "stream",
     "text": [
      "58\n"
     ]
    }
   ],
   "source": [
    "mySum = 0\n",
    "mySet = set(L)\n",
    "for i in mySet:\n",
    "    mySum += i\n",
    "print(mySum)"
   ]
  },
  {
   "cell_type": "markdown",
   "metadata": {},
   "source": [
    "# Practice 2\n",
    "### Here you will play a document reviewer. here we have two article. According to censorship, redundant publication are not allow. So you need to calculate how many percent of words are same between them. Please calculate the repetition rate.\n",
    "\n",
    "### repetition rate  = amount of intersection words/ amount of union words (make sure all word are lowered.)\n",
    "Answer: 54.6%\n",
    "\n",
    "##### Article1 variable\n",
    "```\n",
    "article1 = \"Ever since it was launched in 2008, the Apple App Store has been the sole gatekeeper between apps and iPhones and iPads. Other platforms, such as Google Android, allow apps to be downloaded through third-party app stores. For any developers who want on to Apple mobile devices, though, the choice is simple it's the App Store or nothing.Because it has set things up this way, Apple wields huge power over the terms it can dictate to app makers. One in particular has become a thorny issue, even if most consumers are unlikely to notice it. Any time you buy a digital product or service on many iOS apps, it is processed on an Apple payment system, and Apple collects a 30% fee from that.\"\n",
    "```\n",
    "##### Article2 variable\n",
    "```\n",
    "article2 = \"Since its launch in 2008, the Apple App Store has been the only gatekeeper between apps and iPhone and iPad. Other platforms, such as Google Android. allow downloading of apps through third-party app stores. However, for any developer who wants to use an Apple mobile device, the choice is simple-it is the App Store or nothing. Because it is set up in this way, Apple can have tremendous power over the terms set by the app manufacturer. Even if most consumers are unlikely to notice this problem, it is particularly tricky: whenever you buy a digital product or service on many iOS apps, it will be processed on Apple payment system, and Apple will A 30% fee is charged from that.\"\n",
    "```"
   ]
  },
  {
   "cell_type": "code",
   "execution_count": 73,
   "metadata": {},
   "outputs": [
    {
     "name": "stdout",
     "output_type": "stream",
     "text": [
      "0.5462184873949579\n"
     ]
    }
   ],
   "source": [
    "article1 = \"Ever since it was launched in 2008, the Apple App Store has been the sole gatekeeper between apps and iPhones and iPads. Other platforms, such as Google Android, allow apps to be downloaded through third-party app stores. For any developers who want on to Apple mobile devices, though, the choice is simple it's the App Store or nothing.Because it has set things up this way, Apple wields huge power over the terms it can dictate to app makers. One in particular has become a thorny issue, even if most consumers are unlikely to notice it. Any time you buy a digital product or service on many iOS apps, it is processed on an Apple payment system, and Apple collects a 30% fee from that.\"\n",
    "article2 = \"Since its launch in 2008, the Apple App Store has been the only gatekeeper between apps and iPhone and iPad. Other platforms, such as Google Android. allow downloading of apps through third-party app stores. However, for any developer who wants to use an Apple mobile device, the choice is simple-it is the App Store or nothing. Because it is set up in this way, Apple can have tremendous power over the terms set by the app manufacturer. Even if most consumers are unlikely to notice this problem, it is particularly tricky: whenever you buy a digital product or service on many iOS apps, it will be processed on Apple payment system, and Apple will A 30% fee is charged from that.\"\n",
    "list1 = article1.lower().split(\" \")\n",
    "list2 = article2.lower().split(\" \")\n",
    "\n",
    "set1 = set(list1)\n",
    "set2 = set(list2)\n",
    "\n",
    "print(len(set1&set2) / len(set1|set2))"
   ]
  }
 ],
 "metadata": {
  "kernelspec": {
   "display_name": "Python 3",
   "language": "python",
   "name": "python3"
  },
  "language_info": {
   "codemirror_mode": {
    "name": "ipython",
    "version": 3
   },
   "file_extension": ".py",
   "mimetype": "text/x-python",
   "name": "python",
   "nbconvert_exporter": "python",
   "pygments_lexer": "ipython3",
   "version": "3.6.10"
  }
 },
 "nbformat": 4,
 "nbformat_minor": 4
}
