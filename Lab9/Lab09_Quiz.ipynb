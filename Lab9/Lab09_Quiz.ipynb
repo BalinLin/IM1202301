{
 "cells": [
  {
   "cell_type": "markdown",
   "metadata": {},
   "source": [
    "# Quiz A"
   ]
  },
  {
   "cell_type": "markdown",
   "metadata": {},
   "source": [
    "### Q1:"
   ]
  },
  {
   "cell_type": "code",
   "execution_count": 3,
   "metadata": {},
   "outputs": [
    {
     "name": "stdout",
     "output_type": "stream",
     "text": [
      "None , [1, 1, 2, 2, 3]\n"
     ]
    }
   ],
   "source": [
    "mylist = [1, 2, 3, 2, 1]\n",
    "a = mylist.sort()\n",
    "print(a, \",\", mylist)"
   ]
  },
  {
   "cell_type": "markdown",
   "metadata": {},
   "source": [
    "### Q2:"
   ]
  },
  {
   "cell_type": "code",
   "execution_count": 10,
   "metadata": {},
   "outputs": [
    {
     "name": "stdout",
     "output_type": "stream",
     "text": [
      "4 0 9 6 7 "
     ]
    }
   ],
   "source": [
    "list1 = [4, 0, 9]\n",
    "list2 = [6, 7, 5]\n",
    "list3 = list1[-3:] + list2[:-1]\n",
    "\n",
    "for i in list3:\n",
    "    print(i, end=\" \")"
   ]
  },
  {
   "cell_type": "markdown",
   "metadata": {},
   "source": [
    "### Q3:"
   ]
  },
  {
   "cell_type": "code",
   "execution_count": 30,
   "metadata": {},
   "outputs": [
    {
     "name": "stdout",
     "output_type": "stream",
     "text": [
      "I. .l.o.v.e. .c.o.d.i.n.g.1.3.1.4.<3."
     ]
    }
   ],
   "source": [
    "mydict = {\"key1\":5, \"key2\":\"I love coding\", \"key3\":[1, 3, 1, 4, '<3']}\n",
    "for i in mydict:\n",
    "    if type(mydict[i]) != int:\n",
    "        for j in mydict[i]:\n",
    "            print(j, end=\".\")"
   ]
  },
  {
   "cell_type": "markdown",
   "metadata": {},
   "source": [
    "### Q4:"
   ]
  },
  {
   "cell_type": "code",
   "execution_count": 45,
   "metadata": {},
   "outputs": [
    {
     "name": "stdout",
     "output_type": "stream",
     "text": [
      "key:1\n",
      "val:7\n",
      "key:6\n",
      "val:4\n",
      "key:1\n",
      "val:2\n",
      "old value: 7\n",
      "key:end\n",
      "val:end\n",
      "{'6': '4'}\n"
     ]
    }
   ],
   "source": [
    "mydict = {}\n",
    "key = input(\"key:\")\n",
    "val = input(\"val:\")\n",
    "\n",
    "while key != 'end' and val != 'end':\n",
    "    if key not in mydict:\n",
    "        mydict[key] = val\n",
    "    else:\n",
    "        print(\"old value:\", mydict[key])\n",
    "        del mydict[key]\n",
    "    key = input(\"key:\")\n",
    "    val = input(\"val:\")\n",
    "    \n",
    "print(mydict)"
   ]
  },
  {
   "cell_type": "markdown",
   "metadata": {},
   "source": [
    "# Quiz B"
   ]
  },
  {
   "cell_type": "markdown",
   "metadata": {},
   "source": [
    "### Q1:"
   ]
  },
  {
   "cell_type": "code",
   "execution_count": 6,
   "metadata": {},
   "outputs": [
    {
     "name": "stdout",
     "output_type": "stream",
     "text": [
      "26 , None\n"
     ]
    }
   ],
   "source": [
    "mylist = [6, 5, 4, 5, 6]\n",
    "print(sum(mylist), \",\", mylist.sort())"
   ]
  },
  {
   "cell_type": "markdown",
   "metadata": {},
   "source": [
    "### Q2:"
   ]
  },
  {
   "cell_type": "code",
   "execution_count": 14,
   "metadata": {},
   "outputs": [
    {
     "name": "stdout",
     "output_type": "stream",
     "text": [
      "2 3 4 9 1 "
     ]
    }
   ],
   "source": [
    "list1 = [8, 2, 3]\n",
    "list2 = [4, 9, 1]\n",
    "list3 = list1[-2:] + list2[:10]\n",
    "\n",
    "for i in list3:\n",
    "    print(i, end=\" \")"
   ]
  },
  {
   "cell_type": "markdown",
   "metadata": {},
   "source": [
    "### Q3:"
   ]
  },
  {
   "cell_type": "code",
   "execution_count": 42,
   "metadata": {},
   "outputs": [
    {
     "name": "stdout",
     "output_type": "stream",
     "text": [
      "All.of.These.T.A. .a.r.e. .u.g.l.y."
     ]
    }
   ],
   "source": [
    "mydict = {\"key1\":{\"All\":8, \"of\":2, \"These\": 7}, \"key2\":3, \"key3\":\"TA are ugly\"}\n",
    "for i in mydict:\n",
    "    if type(mydict[i]) == str or type(mydict[i]) == dict:\n",
    "        for j in mydict[i]:\n",
    "            print(j, end=\".\")"
   ]
  },
  {
   "cell_type": "markdown",
   "metadata": {},
   "source": [
    "### Q4"
   ]
  },
  {
   "cell_type": "code",
   "execution_count": 44,
   "metadata": {},
   "outputs": [
    {
     "name": "stdout",
     "output_type": "stream",
     "text": [
      "key:1\n",
      "val:2\n",
      "key:3\n",
      "val:4\n",
      "key:1\n",
      "val:8\n",
      "old value: 2\n",
      "key:end\n",
      "val:end\n",
      "{'1': '8', '3': '4'}\n"
     ]
    }
   ],
   "source": [
    "mydict = {}\n",
    "key = input(\"key:\")\n",
    "val = input(\"val:\")\n",
    "\n",
    "while key != 'end' and val != 'end':\n",
    "    if key not in mydict:\n",
    "        mydict[key] = val\n",
    "    else:\n",
    "        print(\"old value:\", mydict[key])\n",
    "        mydict[key] = val\n",
    "    key = input(\"key:\")\n",
    "    val = input(\"val:\")\n",
    "    \n",
    "print(mydict)"
   ]
  }
 ],
 "metadata": {
  "kernelspec": {
   "display_name": "Python 3",
   "language": "python",
   "name": "python3"
  },
  "language_info": {
   "codemirror_mode": {
    "name": "ipython",
    "version": 3
   },
   "file_extension": ".py",
   "mimetype": "text/x-python",
   "name": "python",
   "nbconvert_exporter": "python",
   "pygments_lexer": "ipython3",
   "version": "3.6.10"
  }
 },
 "nbformat": 4,
 "nbformat_minor": 4
}
