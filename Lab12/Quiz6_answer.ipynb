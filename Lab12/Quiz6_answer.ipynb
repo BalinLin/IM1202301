{
 "cells": [
  {
   "cell_type": "markdown",
   "metadata": {},
   "source": [
    "# Quiz6\n",
    "- implement a lambda function \"printReverse_lambda\" which can print a string in reverse order.\n",
    "- implement a recursive function \"printReverse_recursive\" which can print a string and it's substring in reverse order."
   ]
  },
  {
   "cell_type": "code",
   "execution_count": 1,
   "metadata": {},
   "outputs": [],
   "source": [
    "printReverse_lambda = lambda s: print(s[::-1])"
   ]
  },
  {
   "cell_type": "code",
   "execution_count": 2,
   "metadata": {},
   "outputs": [],
   "source": [
    "def printReverse_recursive(s):\n",
    "    if not s:\n",
    "        return\n",
    "    else:\n",
    "        printReverse_recursive(s[1:])\n",
    "    print(s[::-1])"
   ]
  },
  {
   "cell_type": "code",
   "execution_count": 3,
   "metadata": {},
   "outputs": [],
   "source": [
    "s1 = \"123456789\"\n",
    "s2 = \"abcdefghijklmnopqrstuvwxyz\""
   ]
  },
  {
   "cell_type": "code",
   "execution_count": 4,
   "metadata": {},
   "outputs": [
    {
     "name": "stdout",
     "output_type": "stream",
     "text": [
      "9\n",
      "98\n",
      "987\n",
      "9876\n",
      "98765\n",
      "987654\n",
      "9876543\n",
      "98765432\n",
      "987654321\n",
      "z\n",
      "zy\n",
      "zyx\n",
      "zyxw\n",
      "zyxwv\n",
      "zyxwvu\n",
      "zyxwvut\n",
      "zyxwvuts\n",
      "zyxwvutsr\n",
      "zyxwvutsrq\n",
      "zyxwvutsrqp\n",
      "zyxwvutsrqpo\n",
      "zyxwvutsrqpon\n",
      "zyxwvutsrqponm\n",
      "zyxwvutsrqponml\n",
      "zyxwvutsrqponmlk\n",
      "zyxwvutsrqponmlkj\n",
      "zyxwvutsrqponmlkji\n",
      "zyxwvutsrqponmlkjih\n",
      "zyxwvutsrqponmlkjihg\n",
      "zyxwvutsrqponmlkjihgf\n",
      "zyxwvutsrqponmlkjihgfe\n",
      "zyxwvutsrqponmlkjihgfed\n",
      "zyxwvutsrqponmlkjihgfedc\n",
      "zyxwvutsrqponmlkjihgfedcb\n",
      "zyxwvutsrqponmlkjihgfedcba\n"
     ]
    }
   ],
   "source": [
    "printReverse_recursive(s1)\n",
    "printReverse_recursive(s2)"
   ]
  },
  {
   "cell_type": "code",
   "execution_count": 5,
   "metadata": {},
   "outputs": [
    {
     "name": "stdout",
     "output_type": "stream",
     "text": [
      "9\n",
      "98\n",
      "987\n",
      "9876\n",
      "98765\n",
      "987654\n",
      "9876543\n",
      "98765432\n",
      "987654321\n",
      "z\n",
      "zy\n",
      "zyx\n",
      "zyxw\n",
      "zyxwv\n",
      "zyxwvu\n",
      "zyxwvut\n",
      "zyxwvuts\n",
      "zyxwvutsr\n",
      "zyxwvutsrq\n",
      "zyxwvutsrqp\n",
      "zyxwvutsrqpo\n",
      "zyxwvutsrqpon\n",
      "zyxwvutsrqponm\n",
      "zyxwvutsrqponml\n",
      "zyxwvutsrqponmlk\n",
      "zyxwvutsrqponmlkj\n",
      "zyxwvutsrqponmlkji\n",
      "zyxwvutsrqponmlkjih\n",
      "zyxwvutsrqponmlkjihg\n",
      "zyxwvutsrqponmlkjihgf\n",
      "zyxwvutsrqponmlkjihgfe\n",
      "zyxwvutsrqponmlkjihgfed\n",
      "zyxwvutsrqponmlkjihgfedc\n",
      "zyxwvutsrqponmlkjihgfedcb\n",
      "zyxwvutsrqponmlkjihgfedcba\n"
     ]
    }
   ],
   "source": [
    "for i in range(len(s1)-1, -1, -1):\n",
    "    printReverse_lambda(s1[i:])\n",
    "for i in range(len(s2)-1, -1, -1):\n",
    "    printReverse_lambda(s2[i:])"
   ]
  }
 ],
 "metadata": {
  "kernelspec": {
   "display_name": "Python 3",
   "language": "python",
   "name": "python3"
  },
  "language_info": {
   "codemirror_mode": {
    "name": "ipython",
    "version": 3
   },
   "file_extension": ".py",
   "mimetype": "text/x-python",
   "name": "python",
   "nbconvert_exporter": "python",
   "pygments_lexer": "ipython3",
   "version": "3.6.10"
  }
 },
 "nbformat": 4,
 "nbformat_minor": 4
}
