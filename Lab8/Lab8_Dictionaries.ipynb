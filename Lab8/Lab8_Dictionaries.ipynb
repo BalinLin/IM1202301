{
 "cells": [
  {
   "cell_type": "markdown",
   "metadata": {},
   "source": [
    "### Dictionary Test"
   ]
  },
  {
   "cell_type": "code",
   "execution_count": 38,
   "metadata": {},
   "outputs": [
    {
     "data": {
      "text/plain": [
       "{'a': 1, 5: 2, 5.2: 3, False: 4, True: 5, -2: 6}"
      ]
     },
     "execution_count": 38,
     "metadata": {},
     "output_type": "execute_result"
    }
   ],
   "source": [
    "mydict = {}\n",
    "\n",
    "key = ['a', 5, 5.2, False, True, -2]\n",
    "\n",
    "mydict[key[0]] = 1\n",
    "mydict[key[1]] = 2\n",
    "mydict[key[2]] = 3\n",
    "mydict[key[3]] = 4\n",
    "mydict[key[4]] = 5\n",
    "mydict[key[5]] = 6\n",
    "\n",
    "mydict"
   ]
  },
  {
   "attachments": {
    "image.png": {
     "image/png": "[encoded data removed]"
    }
   },
   "cell_type": "markdown",
   "metadata": {},
   "source": [
    "### Practice 1\n",
    "一、請將以下資料儲存於一個Dictionary中。\n",
    "![image.png](attachment:image.png)\n",
    "\n",
    "二、請以一行程式print出第二次月考的成績。\n",
    "\n",
    "三、請使用split，以一行程式print出小明生日的月份。\n",
    "\n",
    "★提示：當在變數後方有多個函數時，會先從較前面的開始做。\n",
    "- Ex. String.split(‘/’).append(‘a’)，代表先將字串分割成list，再將’a’加到這個list中。"
   ]
  },
  {
   "cell_type": "code",
   "execution_count": 27,
   "metadata": {},
   "outputs": [
    {
     "name": "stdout",
     "output_type": "stream",
     "text": [
      "{'姓名': '王小明', '生日': '2006/12/1', '年級': 1, '三次月考成績': [96, 88, 84]}\n"
     ]
    }
   ],
   "source": [
    "## Q1\n",
    "mydict = {'姓名':'王小明', '生日':'2006/12/1', '年級':1, '三次月考成績':[96, 88, 84]}\n",
    "\n",
    "print(mydict)"
   ]
  },
  {
   "cell_type": "code",
   "execution_count": 28,
   "metadata": {},
   "outputs": [
    {
     "name": "stdout",
     "output_type": "stream",
     "text": [
      "88\n"
     ]
    }
   ],
   "source": [
    "## Q2\n",
    "print(mydict['三次月考成績'][1])"
   ]
  },
  {
   "cell_type": "code",
   "execution_count": 31,
   "metadata": {},
   "outputs": [
    {
     "name": "stdout",
     "output_type": "stream",
     "text": [
      "12\n"
     ]
    }
   ],
   "source": [
    "## Q3\n",
    "print(mydict['生日'].split('/')[1])"
   ]
  },
  {
   "cell_type": "markdown",
   "metadata": {},
   "source": [
    "### get() practice 1"
   ]
  },
  {
   "cell_type": "code",
   "execution_count": 36,
   "metadata": {},
   "outputs": [
    {
     "name": "stdout",
     "output_type": "stream",
     "text": [
      "{'Tom': 80, 'Jerry': 90}\n"
     ]
    }
   ],
   "source": [
    "a_dict = {}\n",
    "Name_list = ['Tom','Jerry']\n",
    "Init_score = [60,80]\n",
    "score = [20,10]\n",
    "\n",
    "for i in range(2):\n",
    "    a_dict[Name_list[i]] = a_dict.get(Name_list[i], Init_score[i]) + score[i]\n",
    "print(a_dict)"
   ]
  },
  {
   "cell_type": "markdown",
   "metadata": {},
   "source": [
    "### get() practice 2"
   ]
  },
  {
   "cell_type": "code",
   "execution_count": 37,
   "metadata": {},
   "outputs": [
    {
     "name": "stdout",
     "output_type": "stream",
     "text": [
      "{'Tom': 30, 'Jerry': 90}\n"
     ]
    }
   ],
   "source": [
    "a_dict = {'Tom':10}\n",
    "Name_list = ['Tom','Jerry']\n",
    "Init_score = [60,80]\n",
    "score = [20,10]\n",
    "\n",
    "for i in range(2):\n",
    "    a_dict[Name_list[i]] = a_dict.get(Name_list[i], Init_score[i]) + score[i]\n",
    "print(a_dict)"
   ]
  },
  {
   "attachments": {},
   "cell_type": "markdown",
   "metadata": {},
   "source": [
    "### Practice 2\n",
    "庭院深深深幾許　楊柳堆煙　簾幕無重數　玉勒雕鞍遊冶處　樓高不見章臺路<br>\n",
    "雨橫風狂三月暮　門掩黃昏　無計留春住　淚眼問花花不語　亂紅飛過鞦韆去\n",
    "\n",
    "利用剛剛學到的 dictionary 和上方的詞句\n",
    "\n",
    "試著做出：<br>\n",
    "1. 找出所有字分別出現的次數各是多少<br>\n",
    "2. 找出出現兩次以上的字(>=2)<br>\n",
    "\n",
    "(以上的結果都要print出來)"
   ]
  },
  {
   "cell_type": "code",
   "execution_count": 57,
   "metadata": {},
   "outputs": [
    {
     "name": "stdout",
     "output_type": "stream",
     "text": [
      "{'庭': 1, '院': 1, '深': 3, '幾': 1, '許': 1, '楊': 1, '柳': 1, '堆': 1, '煙': 1, '簾': 1, '幕': 1, '無': 2, '重': 1, '數': 1, '玉': 1, '勒': 1, '雕': 1, '鞍': 1, '遊': 1, '冶': 1, '處': 1, '樓': 1, '高': 1, '不': 2, '見': 1, '章': 1, '臺': 1, '路': 1, '雨': 1, '橫': 1, '風': 1, '狂': 1, '三': 1, '月': 1, '暮': 1, '門': 1, '掩': 1, '黃': 1, '昏': 1, '計': 1, '留': 1, '春': 1, '住': 1, '淚': 1, '眼': 1, '問': 1, '花': 2, '語': 1, '亂': 1, '紅': 1, '飛': 1, '過': 1, '鞦': 1, '韆': 1, '去': 1}\n"
     ]
    }
   ],
   "source": [
    "## Q1\n",
    "mydict = {}\n",
    "s = \"庭院深深深幾許　楊柳堆煙　簾幕無重數　玉勒雕鞍遊冶處　樓高不見章臺路 雨橫風狂三月暮　門掩黃昏　無計留春住　淚眼問花花不語　亂紅飛過鞦韆去\"\n",
    "s = s.replace(\"　\", \"\")\n",
    "s = s.replace(\" \", \"\")\n",
    "\n",
    "for i in s:\n",
    "    if i not in mydict:\n",
    "        mydict[i] = 1\n",
    "    else:\n",
    "        mydict[i] += 1\n",
    "        \n",
    "print(mydict)"
   ]
  },
  {
   "cell_type": "code",
   "execution_count": 58,
   "metadata": {},
   "outputs": [
    {
     "name": "stdout",
     "output_type": "stream",
     "text": [
      "深\n",
      "無\n",
      "不\n",
      "花\n"
     ]
    }
   ],
   "source": [
    "## Q2\n",
    "for i in mydict:\n",
    "    if mydict[i] >= 2:\n",
    "        print(i)"
   ]
  },
  {
   "cell_type": "markdown",
   "metadata": {},
   "source": [
    "### keys() & values() & items() practice"
   ]
  },
  {
   "cell_type": "code",
   "execution_count": 70,
   "metadata": {},
   "outputs": [
    {
     "name": "stdout",
     "output_type": "stream",
     "text": [
      "dict_keys(['name', 'ID', 'birthday'])\n",
      "dict_values(['Jeff', 54566, '12/1'])\n",
      "dict_items([('name', 'Jeff'), ('ID', 54566), ('birthday', '12/1')])\n"
     ]
    }
   ],
   "source": [
    "a_dict = {'name':'Jeff','ID':54566,'birthday':'12/1'}\n",
    "\n",
    "print(a_dict.keys())\n",
    "print(a_dict.values())\n",
    "print(a_dict.items())"
   ]
  },
  {
   "cell_type": "code",
   "execution_count": 74,
   "metadata": {},
   "outputs": [
    {
     "name": "stdout",
     "output_type": "stream",
     "text": [
      "name <class 'str'>\n",
      "ID <class 'str'>\n",
      "birthday <class 'str'>\n"
     ]
    }
   ],
   "source": [
    "for i in a_dict.keys():\n",
    "    print(i, type(i))"
   ]
  },
  {
   "cell_type": "code",
   "execution_count": 75,
   "metadata": {},
   "outputs": [
    {
     "name": "stdout",
     "output_type": "stream",
     "text": [
      "Jeff <class 'str'>\n",
      "54566 <class 'int'>\n",
      "12/1 <class 'str'>\n"
     ]
    }
   ],
   "source": [
    "for i in a_dict.values():\n",
    "    print(i, type(i))"
   ]
  },
  {
   "cell_type": "code",
   "execution_count": 76,
   "metadata": {},
   "outputs": [
    {
     "name": "stdout",
     "output_type": "stream",
     "text": [
      "('name', 'Jeff') <class 'tuple'>\n",
      "('ID', 54566) <class 'tuple'>\n",
      "('birthday', '12/1') <class 'tuple'>\n"
     ]
    }
   ],
   "source": [
    "for i in a_dict.items():\n",
    "    print(i, type(i))"
   ]
  },
  {
   "cell_type": "markdown",
   "metadata": {},
   "source": [
    "### Dictionary的排序"
   ]
  },
  {
   "cell_type": "code",
   "execution_count": 89,
   "metadata": {},
   "outputs": [
    {
     "name": "stdout",
     "output_type": "stream",
     "text": [
      "keys: [28, 12, 40]\n",
      "items: [(28, 'patient1'), (12, 'patient2'), (40, 'patient3')]\n",
      "keys.sort(): [12, 28, 40]\n",
      "{28: 'patient1', 12: 'patient2', 40: 'patient3'} <class 'dict'>\n",
      "{12: 'patient2', 28: 'patient1', 40: 'patient3'} <class 'dict'>\n"
     ]
    }
   ],
   "source": [
    "hospital_dict = {28:'patient1',12:'patient2',40:'patient3'}\n",
    "keys  = list(hospital_dict.keys())\n",
    "items = list(hospital_dict.items())\n",
    "print(\"keys:\", keys)  \n",
    "print(\"items:\", items)\n",
    "keys.sort()\n",
    "print(\"keys.sort():\", keys)\n",
    "\n",
    "new_dict ={}\n",
    "for i in keys:\n",
    "    for j in items:\n",
    "        if j[0] == i:\n",
    "            new_dict[i] = hospital_dict[i]\n",
    "\n",
    "print(hospital_dict, type(hospital_dict))\n",
    "print(new_dict, type(new_dict))"
   ]
  },
  {
   "cell_type": "code",
   "execution_count": 91,
   "metadata": {},
   "outputs": [
    {
     "name": "stdout",
     "output_type": "stream",
     "text": [
      "[(12, 'patient2'), (28, 'patient1'), (40, 'patient3')] <class 'list'>\n",
      "{12: 'patient2', 28: 'patient1', 40: 'patient3'} <class 'dict'>\n"
     ]
    }
   ],
   "source": [
    "hospital_dict = {28:'patient1', 12:'patient2', 40:'patient3'}\n",
    "hospital_dict_list = sorted(hospital_dict.items(), key = lambda x:x[0])\n",
    "print(hospital_dict_list, type(hospital_dict_list))\n",
    "\n",
    "new_dict = dict(hospital_dict_list)\n",
    "print(new_dict, type(new_dict))"
   ]
  },
  {
   "cell_type": "markdown",
   "metadata": {},
   "source": [
    "### Practice 3\n",
    "請同學將前頁所展示的排序規則，修改成會根據value值將dictionary從小到大進行排序的形式，\n",
    "\n",
    "ages_dict = {'Michael':54, 'wendy':82,'Ann': 40}"
   ]
  },
  {
   "cell_type": "code",
   "execution_count": 97,
   "metadata": {},
   "outputs": [
    {
     "name": "stdout",
     "output_type": "stream",
     "text": [
      "{'Ann': 40, 'Michael': 54, 'wendy': 82}\n"
     ]
    }
   ],
   "source": [
    "ages_dict = {'Michael':54, 'wendy':82,'Ann': 40}\n",
    "values  = list(ages_dict.values())\n",
    "items = list(ages_dict.items())\n",
    "values.sort()\n",
    "\n",
    "new_dict ={}\n",
    "for i in values:\n",
    "    for j in items:\n",
    "        if j[1] == i:\n",
    "            new_dict[j[0]] = ages_dict[j[0]]\n",
    "\n",
    "print(new_dict)"
   ]
  }
 ],
 "metadata": {
  "kernelspec": {
   "display_name": "Python 3",
   "language": "python",
   "name": "python3"
  },
  "language_info": {
   "codemirror_mode": {
    "name": "ipython",
    "version": 3
   },
   "file_extension": ".py",
   "mimetype": "text/x-python",
   "name": "python",
   "nbconvert_exporter": "python",
   "pygments_lexer": "ipython3",
   "version": "3.6.10"
  }
 },
 "nbformat": 4,
 "nbformat_minor": 4
}
