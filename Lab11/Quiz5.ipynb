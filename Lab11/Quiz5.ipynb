{
 "cells": [
  {
   "cell_type": "markdown",
   "metadata": {},
   "source": [
    "# Q5\n",
    "write a .py \"myfunction.py\" which can do the things below:\n",
    "- getset(string): input a string and return a set of this string.\n",
    "- IoU(set1, set2): input two set and return the proportion of intersection of union.\n",
    "- percentage(set, string): input a set and a string of lowercase, return the percentage of lowercase letters the set has.\n",
    "- removefist(string): input a string and return a string except the letter it first meet."
   ]
  },
  {
   "cell_type": "code",
   "execution_count": 1,
   "metadata": {},
   "outputs": [],
   "source": [
    "from myfunction import *\n",
    "\n",
    "s1 = \"eoqwehopausdhpuhnkasdpwiqem\"\n",
    "s2 = \"ewp3oipqwmd9fdksf1pm8qwezz25xca7dcxccc\"\n",
    "lowercase = \"abcdefghijklmnopqrstuvwxyz\"\n",
    "\n",
    "s1_set = getset(s1)\n",
    "s2_set = getset(s2)"
   ]
  },
  {
   "cell_type": "code",
   "execution_count": 2,
   "metadata": {},
   "outputs": [
    {
     "name": "stdout",
     "output_type": "stream",
     "text": [
      "s1 set: {'w', 'n', 'a', 'h', 'e', 's', 'm', 'o', 'd', 'q', 'p', 'u', 'k', 'i'}\n",
      "s2 set: {'m', 'o', '2', 'w', 'z', 'a', 'p', 'q', 'f', '1', 'c', '9', 'i', '3', 's', 'e', '8', 'd', 'k', '7', '5', 'x'}\n"
     ]
    }
   ],
   "source": [
    "print(\"s1 set:\", s1_set)\n",
    "print(\"s2 set:\", s2_set)"
   ]
  },
  {
   "cell_type": "code",
   "execution_count": 3,
   "metadata": {},
   "outputs": [
    {
     "name": "stdout",
     "output_type": "stream",
     "text": [
      "IoU: 0.44\n"
     ]
    }
   ],
   "source": [
    "print(\"IoU:\", IoU(s1_set, s2_set))"
   ]
  },
  {
   "cell_type": "code",
   "execution_count": 4,
   "metadata": {},
   "outputs": [
    {
     "name": "stdout",
     "output_type": "stream",
     "text": [
      "s1_set percentage: 53.84615384615385\n",
      "s2_set percentage: 57.692307692307686\n",
      "lowercase percentage: 100.0\n"
     ]
    }
   ],
   "source": [
    "print(\"s1_set percentage:\", percentage(s1_set, lowercase))\n",
    "print(\"s2_set percentage:\", percentage(s2_set, lowercase))\n",
    "print(\"lowercase percentage:\", percentage(getset(lowercase), lowercase))"
   ]
  },
  {
   "cell_type": "code",
   "execution_count": 5,
   "metadata": {},
   "outputs": [
    {
     "name": "stdout",
     "output_type": "stream",
     "text": [
      "s1 removefist: eohpuhasdpwqe\n",
      "s2 removefist: pwdfpmqwezdcxccc\n",
      "lowercase removefist: \n"
     ]
    }
   ],
   "source": [
    "print(\"s1 removefist:\", removefist(s1))\n",
    "print(\"s2 removefist:\", removefist(s2))\n",
    "print(\"lowercase removefist:\", removefist(lowercase))"
   ]
  }
 ],
 "metadata": {
  "kernelspec": {
   "display_name": "Python 3",
   "language": "python",
   "name": "python3"
  },
  "language_info": {
   "codemirror_mode": {
    "name": "ipython",
    "version": 3
   },
   "file_extension": ".py",
   "mimetype": "text/x-python",
   "name": "python",
   "nbconvert_exporter": "python",
   "pygments_lexer": "ipython3",
   "version": "3.6.10"
  }
 },
 "nbformat": 4,
 "nbformat_minor": 4
}
