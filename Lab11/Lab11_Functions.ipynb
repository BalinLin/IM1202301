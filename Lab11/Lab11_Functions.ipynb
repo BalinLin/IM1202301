{
 "cells": [
  {
   "cell_type": "markdown",
   "metadata": {},
   "source": [
    "# Lambda"
   ]
  },
  {
   "cell_type": "code",
   "execution_count": 1,
   "metadata": {},
   "outputs": [
    {
     "name": "stdout",
     "output_type": "stream",
     "text": [
      "7\n"
     ]
    }
   ],
   "source": [
    "def function_name(input_var1, input_var2):\n",
    "    print(input_var1+input_var2)\n",
    "\n",
    "function_name(3,4)"
   ]
  },
  {
   "cell_type": "code",
   "execution_count": 2,
   "metadata": {},
   "outputs": [
    {
     "name": "stdout",
     "output_type": "stream",
     "text": [
      "7\n"
     ]
    }
   ],
   "source": [
    "lambdaFunction = lambda input_var1, input_var2: print(input_var1 + input_var2)\n",
    "lambdaFunction(3, 4)"
   ]
  },
  {
   "cell_type": "code",
   "execution_count": 3,
   "metadata": {},
   "outputs": [
    {
     "name": "stdout",
     "output_type": "stream",
     "text": [
      "7\n"
     ]
    }
   ],
   "source": [
    "def function_name(input_var1 = 3, input_var2 = 4):\n",
    "    print(input_var1+input_var2)\n",
    "\n",
    "function_name()"
   ]
  },
  {
   "cell_type": "code",
   "execution_count": 4,
   "metadata": {},
   "outputs": [
    {
     "name": "stdout",
     "output_type": "stream",
     "text": [
      "7\n"
     ]
    }
   ],
   "source": [
    "lambdaFunction = lambda input_var1 = 3, input_var2 = 4: print(input_var1 + input_var2)\n",
    "lambdaFunction()"
   ]
  },
  {
   "cell_type": "code",
   "execution_count": 5,
   "metadata": {},
   "outputs": [
    {
     "name": "stdout",
     "output_type": "stream",
     "text": [
      "7\n"
     ]
    }
   ],
   "source": [
    "def function_name(input_var1 = 3, input_var2 = 4):\n",
    "    result = input_var1 + input_var2\n",
    "    return result\n",
    "\n",
    "return_value = function_name()\n",
    "print(return_value)"
   ]
  },
  {
   "cell_type": "code",
   "execution_count": 6,
   "metadata": {
    "scrolled": true
   },
   "outputs": [
    {
     "name": "stdout",
     "output_type": "stream",
     "text": [
      "7\n"
     ]
    }
   ],
   "source": [
    "lambdaFunction = lambda input_var1 = 3, input_var2 = 4: input_var1 + input_var2\n",
    "return_value = lambdaFunction()\n",
    "print(return_value)"
   ]
  },
  {
   "cell_type": "code",
   "execution_count": 7,
   "metadata": {},
   "outputs": [
    {
     "data": {
      "text/plain": [
       "7"
      ]
     },
     "execution_count": 7,
     "metadata": {},
     "output_type": "execute_result"
    }
   ],
   "source": [
    "def function_name(input_var1 = 3, input_var2 = 4):\n",
    "    result = input_var1 + input_var2\n",
    "    return result\n",
    "\n",
    "New_name = function_name \n",
    "New_name(3,4)"
   ]
  },
  {
   "cell_type": "code",
   "execution_count": 8,
   "metadata": {},
   "outputs": [
    {
     "name": "stdout",
     "output_type": "stream",
     "text": [
      "7\n"
     ]
    }
   ],
   "source": [
    "lambdaFunction = lambda input_var1 = 3, input_var2 = 4: input_var1 + input_var2\n",
    "return_value = lambdaFunction()\n",
    "print(return_value)"
   ]
  },
  {
   "cell_type": "markdown",
   "metadata": {},
   "source": [
    "# Recursive Function"
   ]
  },
  {
   "cell_type": "markdown",
   "metadata": {},
   "source": [
    "- Factorial"
   ]
  },
  {
   "cell_type": "code",
   "execution_count": 9,
   "metadata": {},
   "outputs": [
    {
     "name": "stdout",
     "output_type": "stream",
     "text": [
      "120\n"
     ]
    }
   ],
   "source": [
    "def factorial(n):\n",
    "    factor = 1\n",
    "    for i in range(1,n+1):\n",
    "        factor *= i\n",
    "    return factor\n",
    "\n",
    "print(factorial(5))"
   ]
  },
  {
   "cell_type": "code",
   "execution_count": 10,
   "metadata": {},
   "outputs": [
    {
     "name": "stdout",
     "output_type": "stream",
     "text": [
      "120\n"
     ]
    }
   ],
   "source": [
    "def factorial(n):\n",
    "    if n == 0 or n == 1:\n",
    "        return 1\n",
    "    else:\n",
    "        return n * factorial(n - 1)\n",
    "\n",
    "print(factorial(5))"
   ]
  },
  {
   "cell_type": "markdown",
   "metadata": {},
   "source": [
    "# time"
   ]
  },
  {
   "cell_type": "code",
   "execution_count": 11,
   "metadata": {
    "scrolled": true
   },
   "outputs": [
    {
     "name": "stdout",
     "output_type": "stream",
     "text": [
      "1621667000.2179472\n"
     ]
    }
   ],
   "source": [
    "import time\n",
    "mytime = time.time()\n",
    "print(mytime)"
   ]
  },
  {
   "cell_type": "code",
   "execution_count": 12,
   "metadata": {},
   "outputs": [
    {
     "name": "stdout",
     "output_type": "stream",
     "text": [
      "1.006194829940796\n"
     ]
    }
   ],
   "source": [
    "import time\n",
    "first = time.time()\n",
    "time.sleep(1)\n",
    "second = time.time()\n",
    "print(second - first)"
   ]
  },
  {
   "attachments": {},
   "cell_type": "markdown",
   "metadata": {},
   "source": [
    "# Practice 1\n",
    "- 與 Lab10-1 相同，但必須使用 lambda 完成，可以使用內建函數，功能分別是獲取list長度(get_length)、獲取list元素的總和(get_sum)、獲取list元素的均值(get_average)、 list元素的最大值(get_max)、 list元素的最小值(get_min)。"
   ]
  },
  {
   "cell_type": "code",
   "execution_count": 13,
   "metadata": {},
   "outputs": [],
   "source": [
    "get_length = lambda l: len(l)\n",
    "get_sum = lambda l: sum(l)\n",
    "get_average = lambda l: sum(l)/len(l)\n",
    "get_max = lambda l: max(l)\n",
    "get_min = lambda l: min(l)"
   ]
  },
  {
   "cell_type": "code",
   "execution_count": 14,
   "metadata": {},
   "outputs": [
    {
     "name": "stdout",
     "output_type": "stream",
     "text": [
      "get_length: 10\n",
      "get_sum: 1078\n",
      "get_average: 107.8\n",
      "get_max: 200\n",
      "get_min: 9\n"
     ]
    }
   ],
   "source": [
    "data = [200, 47, 9, 105, 164, 29, 175, 39, 160, 150]\n",
    "print(\"get_length:\", get_length(data))\n",
    "print(\"get_sum:\", get_sum(data))\n",
    "print(\"get_average:\", get_average(data))\n",
    "print(\"get_max:\", get_max(data))\n",
    "print(\"get_min:\", get_min(data))"
   ]
  },
  {
   "attachments": {},
   "cell_type": "markdown",
   "metadata": {},
   "source": [
    "# Practice 2\n",
    "- 與 Lab10-2 相同，根據右方規則與需求設計一個解密(decoding)函數，必須使用 lambda 完成。"
   ]
  },
  {
   "cell_type": "code",
   "execution_count": 15,
   "metadata": {},
   "outputs": [],
   "source": [
    "decoding = lambda data, text: ''.join([text[int(i)] for i in data])"
   ]
  },
  {
   "cell_type": "code",
   "execution_count": 16,
   "metadata": {
    "scrolled": true
   },
   "outputs": [
    {
     "name": "stdout",
     "output_type": "stream",
     "text": [
      "good\n"
     ]
    }
   ],
   "source": [
    "texts = ['a','b','c','d','e','f','g','h','i','j','k','l','m','n','o','p','q','r','s','t','u','v','w','x','y','z',',','.',' ']\n",
    "Data = ['6','14','14','3']\n",
    "decode_data = decoding(Data,texts)\n",
    "print(decode_data)"
   ]
  },
  {
   "cell_type": "markdown",
   "metadata": {},
   "source": [
    "# Practice 3\n",
    "透過 Recursive Function 實作 Fibonacci sequence。\n",
    "- f(0) = 0, f(1) = 1\n",
    "- f(n) = f(n-1) + f(n-2), n>=2"
   ]
  },
  {
   "cell_type": "code",
   "execution_count": 17,
   "metadata": {},
   "outputs": [],
   "source": [
    "def fibonacci(n):\n",
    "    if n == 0:\n",
    "        return 0\n",
    "    elif n == 1:\n",
    "        return 1\n",
    "    else:\n",
    "        return fibonacci(n-1) + fibonacci(n-2)"
   ]
  },
  {
   "cell_type": "code",
   "execution_count": 18,
   "metadata": {},
   "outputs": [
    {
     "name": "stdout",
     "output_type": "stream",
     "text": [
      "55\n"
     ]
    }
   ],
   "source": [
    "print(fibonacci(10))"
   ]
  }
 ],
 "metadata": {
  "kernelspec": {
   "display_name": "Python 3",
   "language": "python",
   "name": "python3"
  },
  "language_info": {
   "codemirror_mode": {
    "name": "ipython",
    "version": 3
   },
   "file_extension": ".py",
   "mimetype": "text/x-python",
   "name": "python",
   "nbconvert_exporter": "python",
   "pygments_lexer": "ipython3",
   "version": "3.6.10"
  }
 },
 "nbformat": 4,
 "nbformat_minor": 4
}
