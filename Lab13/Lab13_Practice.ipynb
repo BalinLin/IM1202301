{
 "cells": [
  {
   "cell_type": "markdown",
   "metadata": {},
   "source": [
    "# Practice 1\n",
    "請為前一頁的程式碼新增存款(make_deposit)、提款(make_withdrawal)的 Method。\n",
    "- 輸入變數各有兩個，分別為註冊者名稱(name)及金額(money)。\n",
    "- 當註冊者名稱未曾註冊過，請新增此使用者並存入金額。\n",
    "- 當提款的餘額不足時請回傳\"餘額不足\"。"
   ]
  },
  {
   "cell_type": "code",
   "execution_count": null,
   "metadata": {},
   "outputs": [],
   "source": [
    "class Bank():\n",
    "    def __init__(self, registers = []):\n",
    "        self.deposit = self.set_account(registers)\n",
    "        \n",
    "    def set_account(self, Data_input):\n",
    "        temp_dict = {}\n",
    "        for i in Data_input:\n",
    "            temp_dict[i] = 0\n",
    "        return temp_dict\n",
    "    \n",
    "    def get_balance(self, register):\n",
    "        return self.deposit[register]\n",
    "    \n",
    "    def make_deposit(self, name, money):\n",
    "        ## TODO\n",
    "        \n",
    "    def make_withdrawal(self, name, money):\n",
    "        ## TODO\n",
    "\n",
    "\n",
    "Register_name = ['Bob','John','Steve']\n",
    "My_bank = Bank(Register_name)\n",
    "\n",
    "print(\"All deposit:\", My_bank.deposit)\n",
    "print(\"Bob's balance:\", My_bank.get_balance('Bob'))\n",
    "print(\"Bob make a deposit:\", My_bank.make_deposit('Bob', 100))\n",
    "print(\"Mary make a deposit:\", My_bank.make_deposit('Mary', 300))\n",
    "print(\"Bob make a withdrawal:\", My_bank.make_withdrawal('Bob', 50))\n",
    "print(\"Steve make a withdrawal:\", My_bank.make_withdrawal('Steve', 80))\n",
    "print(\"All deposit:\", My_bank.deposit)"
   ]
  },
  {
   "attachments": {},
   "cell_type": "markdown",
   "metadata": {},
   "source": [
    "# Practice 2\n",
    "請各位撰寫一個物件，將前一頁的內容物件導向化。\n",
    "\n",
    "- 物件名稱：Sales\n",
    "- 屬性：employee_number(string)、record(list)、customer(list)\n",
    "- 方法： \n",
    "    - punch – 將 employee_number print出來\n",
    "\t- add_customer – 呼叫時須有一個輸入參數，並將這個輸入參數加入customer中。\n",
    "\t- add_record – 呼叫時須有兩個輸入參數，並將其加入record中。\n",
    "\n",
    "呼叫範例：\n",
    "\n",
    "- OBJECT = Sales(employee_number = 'B10101010')\n",
    "- OBJECT.add_customer('Michael')\n",
    "- OBJECT.add_record('Michael', 'Still negotiating')"
   ]
  },
  {
   "cell_type": "code",
   "execution_count": null,
   "metadata": {},
   "outputs": [],
   "source": [
    "class Sales():\n",
    "    def __init__(self, employee_number, record = [], customer = []):\n",
    "        ## TODO\n",
    "        \n",
    "    def punch(self):\n",
    "        ## TODO\n",
    "        \n",
    "    def add_customer(self, name):\n",
    "        ## TODO\n",
    "        \n",
    "    def add_record(self, name, status):\n",
    "        ## TODO\n",
    "    \n",
    "OBJECT = Sales(employee_number = 'B10101010')\n",
    "OBJECT.add_customer('Michael')\n",
    "OBJECT.add_record('Michael', 'Still negotiating')\n",
    "\n",
    "OBJECT.punch()\n",
    "print(\"employee_number:\", OBJECT.employee_number)\n",
    "print(\"customer:\", OBJECT.customer)\n",
    "print(\"record:\", OBJECT.record)"
   ]
  },
  {
   "attachments": {},
   "cell_type": "markdown",
   "metadata": {},
   "source": [
    "# Practice 3 \n",
    "如同 Utility_Vehicle 的物件，請建立一個 Vehicle 的子類別為工程車(Engineering_Vehicle，車門數為 1)。\n",
    "\n",
    "這台工程車為了在工作中的機動性，除了可以水平移動外，還需要上下移動(z 軸)和面向(c 軸)。\n",
    "\n",
    "屬性和方法如下所示：\n",
    "- 屬性：\n",
    "    - state  – 包含 z, c 軸的 list。(z 的範圍從 0 ~ 10 、c 的範圍是 0 ~ 360 度)\n",
    "- 方法：\n",
    "    - position – 輸入參數為 x, y, z, c，並結合父類別的drive方法，將工程車移動至該狀態。(需先檢查z與c值的輸入是否符合條件，不符合\t\t    就移動到極限停止)\n",
    "\t- detail – print 出工程車的 x, y, z, c 軸。"
   ]
  },
  {
   "cell_type": "code",
   "execution_count": null,
   "metadata": {},
   "outputs": [],
   "source": [
    "class Engineering_Vehicle(Vehicle):\n",
    "    def __init__(self):\n",
    "        ## TODO\n",
    "        \n",
    "    def position(self, x, y, z, c):\n",
    "        ## TODO\n",
    "        \n",
    "    def detail(self):\n",
    "        ## TODO\n",
    "        \n",
    "My_car = Engineering_Vehicle()\n",
    "My_car.detail()\n",
    "\n",
    "print(\"=\" * 50)\n",
    "My_car.position(1, 2, 3, 4)\n",
    "My_car.detail()\n",
    "\n",
    "print(\"=\" * 50)\n",
    "My_car.position(1, 2, 5, -230)\n",
    "My_car.detail()\n",
    "\n",
    "print(\"=\" * 50)\n",
    "My_car.position(1, 2, -5, 20)\n",
    "My_car.detail()\n",
    "\n",
    "print(\"=\" * 50)\n",
    "My_car.position(1, 2, -10, -100)\n",
    "My_car.detail()"
   ]
  }
 ],
 "metadata": {
  "kernelspec": {
   "display_name": "Python 3",
   "language": "python",
   "name": "python3"
  },
  "language_info": {
   "codemirror_mode": {
    "name": "ipython",
    "version": 3
   },
   "file_extension": ".py",
   "mimetype": "text/x-python",
   "name": "python",
   "nbconvert_exporter": "python",
   "pygments_lexer": "ipython3",
   "version": "3.6.10"
  }
 },
 "nbformat": 4,
 "nbformat_minor": 2
}
