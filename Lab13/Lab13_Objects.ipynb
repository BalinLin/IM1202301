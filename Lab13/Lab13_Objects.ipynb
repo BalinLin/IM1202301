{
 "cells": [
  {
   "cell_type": "markdown",
   "metadata": {},
   "source": [
    "# Class"
   ]
  },
  {
   "cell_type": "code",
   "execution_count": 1,
   "metadata": {},
   "outputs": [
    {
     "name": "stdout",
     "output_type": "stream",
     "text": [
      "Center Bank\n",
      "Kevin你好,歡迎光臨Center Bank\n"
     ]
    }
   ],
   "source": [
    "class Bank():\n",
    "    name = 'Center Bank'\n",
    "    def motto(self,customer):\n",
    "        return customer + '你好,歡迎光臨' + self.name\n",
    "\n",
    "My_bank = Bank()\n",
    "print(My_bank.name)\n",
    "print(My_bank.motto('Kevin'))"
   ]
  },
  {
   "cell_type": "code",
   "execution_count": 2,
   "metadata": {},
   "outputs": [
    {
     "name": "stdout",
     "output_type": "stream",
     "text": [
      "{'Bob': 0, 'John': 0, 'Steve': 0}\n",
      "0\n"
     ]
    }
   ],
   "source": [
    "class Bank():\n",
    "    def __init__(self, registers = []):\n",
    "        self.deposit = self.set_account(registers)\n",
    "        \n",
    "    def set_account(self, Data_input):\n",
    "        temp_dict = {}\n",
    "        for i in Data_input:\n",
    "            temp_dict[i] = 0\n",
    "        return temp_dict\n",
    "    \n",
    "    def get_balance(self, register):\n",
    "        return self.deposit[register]\n",
    "\n",
    "\n",
    "Register_name = ['Bob','John','Steve']\n",
    "My_bank = Bank(Register_name)\n",
    "print(My_bank.deposit)\n",
    "print(My_bank.get_balance('Bob'))"
   ]
  },
  {
   "attachments": {},
   "cell_type": "markdown",
   "metadata": {},
   "source": [
    "# Practice 1\n",
    "請為前一頁的程式碼新增存款(make_deposit)、提款(make_withdrawal)的 Method。\n",
    "- 輸入變數各有兩個，分別為註冊者名稱(name)及金額(money)。\n",
    "- 當註冊者名稱未曾註冊過，請新增此使用者並存入金額。\n",
    "- 當提款的餘額不足時請回傳\"餘額不足\"。"
   ]
  },
  {
   "cell_type": "code",
   "execution_count": 3,
   "metadata": {
    "scrolled": true
   },
   "outputs": [
    {
     "name": "stdout",
     "output_type": "stream",
     "text": [
      "All deposit: {'Bob': 0, 'John': 0, 'Steve': 0}\n",
      "Bob's balance: 0\n",
      "Bob make a deposit: None\n",
      "Mary make a deposit: None\n",
      "Bob make a withdrawal: None\n",
      "餘額不足\n",
      "Steve make a withdrawal: None\n",
      "All deposit: {'Bob': 50, 'John': 0, 'Steve': 0, 'Mary': 300}\n"
     ]
    }
   ],
   "source": [
    "class Bank():\n",
    "    def __init__(self, registers = []):\n",
    "        self.deposit = self.set_account(registers)\n",
    "        \n",
    "    def set_account(self, Data_input):\n",
    "        temp_dict = {}\n",
    "        for i in Data_input:\n",
    "            temp_dict[i] = 0\n",
    "        return temp_dict\n",
    "    \n",
    "    def get_balance(self, register):\n",
    "        return self.deposit[register]\n",
    "    \n",
    "    def make_deposit(self, name, money):\n",
    "        self.deposit[name] = self.deposit.get(name, 0) + money\n",
    "        \n",
    "    def make_withdrawal(self, name, money):\n",
    "        if self.deposit.get(name, 0) - money < 0:\n",
    "            print(\"餘額不足\")\n",
    "        else:\n",
    "            self.deposit[name] = self.deposit.get(name, 0) - money\n",
    "\n",
    "\n",
    "Register_name = ['Bob','John','Steve']\n",
    "My_bank = Bank(Register_name)\n",
    "\n",
    "print(\"All deposit:\", My_bank.deposit)\n",
    "print(\"Bob's balance:\", My_bank.get_balance('Bob'))\n",
    "print(\"Bob make a deposit:\", My_bank.make_deposit('Bob', 100))\n",
    "print(\"Mary make a deposit:\", My_bank.make_deposit('Mary', 300))\n",
    "print(\"Bob make a withdrawal:\", My_bank.make_withdrawal('Bob', 50))\n",
    "print(\"Steve make a withdrawal:\", My_bank.make_withdrawal('Steve', 80))\n",
    "print(\"All deposit:\", My_bank.deposit)"
   ]
  },
  {
   "cell_type": "code",
   "execution_count": 4,
   "metadata": {},
   "outputs": [
    {
     "name": "stdout",
     "output_type": "stream",
     "text": [
      "All deposit: {'Bob': 0, 'John': 0, 'Steve': 0}\n",
      "Bob's balance: 0\n",
      "Bob make a deposit: 存入金額為:100    餘額為:100\n",
      "Mary make a deposit: 存入金額為:300    餘額為:300\n",
      "Bob make a withdrawal: 提領金額為:50    餘額為:50\n",
      "Steve make a withdrawal: 餘額不足\n",
      "All deposit: {'Bob': 50, 'John': 0, 'Steve': 0, 'Mary': 300}\n"
     ]
    }
   ],
   "source": [
    "class Bank():\n",
    "    def __init__(self, registers = []):\n",
    "        self.deposit = self.set_account(registers)\n",
    "        \n",
    "    def set_account(self, Data_input):\n",
    "        temp_dict = {}\n",
    "        for i in Data_input:\n",
    "            temp_dict[i] = 0\n",
    "        return temp_dict\n",
    "    \n",
    "    def get_balance(self, register):\n",
    "        return self.deposit[register]\n",
    "    \n",
    "    def make_deposit(self, name, money):\n",
    "        self.deposit[name] = self.deposit.get(name, 0) + money\n",
    "        return \"存入金額為:\" + str(money) + \"    餘額為:\" + str(self.deposit[name])\n",
    "        \n",
    "    def make_withdrawal(self, name, money):\n",
    "        if self.deposit.get(name, 0) - money < 0:\n",
    "            return \"餘額不足\"\n",
    "        else:\n",
    "            self.deposit[name] = self.deposit.get(name, 0) - money\n",
    "            return \"提領金額為:\" + str(money) + \"    餘額為:\" + str(self.deposit[name])\n",
    "\n",
    "\n",
    "Register_name = ['Bob','John','Steve']\n",
    "My_bank = Bank(Register_name)\n",
    "\n",
    "print(\"All deposit:\", My_bank.deposit)\n",
    "print(\"Bob's balance:\", My_bank.get_balance('Bob'))\n",
    "print(\"Bob make a deposit:\", My_bank.make_deposit('Bob', 100))\n",
    "print(\"Mary make a deposit:\", My_bank.make_deposit('Mary', 300))\n",
    "print(\"Bob make a withdrawal:\", My_bank.make_withdrawal('Bob', 50))\n",
    "print(\"Steve make a withdrawal:\", My_bank.make_withdrawal('Steve', 80))\n",
    "print(\"All deposit:\", My_bank.deposit)"
   ]
  },
  {
   "attachments": {},
   "cell_type": "markdown",
   "metadata": {},
   "source": [
    "# Practice 2\n",
    "請各位撰寫一個物件，將前一頁的內容物件導向化。\n",
    "\n",
    "- 物件名稱：Sales\n",
    "- 屬性：employee_number(string)、record(list)、customer(list)\n",
    "- 方法： \n",
    "    - punch – 將 employee_number print出來\n",
    "\t- add_customer – 呼叫時須有一個輸入參數，並將這個輸入參數加入customer中。\n",
    "\t- add_record – 呼叫時須有兩個輸入參數，並將其加入record中。\n",
    "\n",
    "呼叫範例：\n",
    "\n",
    "- OBJECT = Sales(employee_number = 'B10101010')\n",
    "- OBJECT.add_customer('Michael')\n",
    "- OBJECT.add_record('Michael', 'Still negotiating')"
   ]
  },
  {
   "cell_type": "code",
   "execution_count": 5,
   "metadata": {},
   "outputs": [
    {
     "name": "stdout",
     "output_type": "stream",
     "text": [
      "employee_number: B10101010\n",
      "employee_number: B10101010\n",
      "customer: ['Michael']\n",
      "record: [['Michael', 'Still negotiating']]\n"
     ]
    }
   ],
   "source": [
    "class Sales():\n",
    "    def __init__(self, employee_number, record = [], customer = []):\n",
    "        self.employee_number = employee_number\n",
    "        self.record = record\n",
    "        self.customer = customer\n",
    "        \n",
    "    def punch(self):\n",
    "        print(\"employee_number:\", self.employee_number)\n",
    "        \n",
    "    def add_customer(self, name):\n",
    "        self.customer.append(name)\n",
    "        \n",
    "    def add_record(self, name, status):\n",
    "        self.record.append([name, status])\n",
    "    \n",
    "OBJECT = Sales(employee_number = 'B10101010')\n",
    "OBJECT.add_customer('Michael')\n",
    "OBJECT.add_record('Michael', 'Still negotiating')\n",
    "\n",
    "OBJECT.punch()\n",
    "print(\"employee_number:\", OBJECT.employee_number)\n",
    "print(\"customer:\", OBJECT.customer)\n",
    "print(\"record:\", OBJECT.record)"
   ]
  },
  {
   "cell_type": "markdown",
   "metadata": {},
   "source": [
    "# 繼承"
   ]
  },
  {
   "cell_type": "code",
   "execution_count": 6,
   "metadata": {},
   "outputs": [],
   "source": [
    "class Vehicle():\n",
    "    def __init__(self,doors):\n",
    "        self.doors_number = doors\n",
    "        self.location = [0,0]\n",
    "        \n",
    "    def drive(self,x,y):\n",
    "        self.location = [x,y]"
   ]
  },
  {
   "cell_type": "code",
   "execution_count": 7,
   "metadata": {},
   "outputs": [],
   "source": [
    "class Utility_Vehicle(Vehicle):\n",
    "    def __init__(self, brand, air_bag):\n",
    "        super().__init__(doors = 4)\n",
    "        self.brand_name = brand\n",
    "        self.air_bag = air_bag\n",
    "        \n",
    "    def detail(self):\n",
    "        print('廠牌', self.brand_name)\n",
    "        print('車門數', self.doors_number)  # 父類別的屬性\n",
    "        print('安全氣囊數', self.air_bag)\n",
    "        print('位置', self.location) # 父類別的屬性"
   ]
  },
  {
   "cell_type": "code",
   "execution_count": 8,
   "metadata": {},
   "outputs": [
    {
     "name": "stdout",
     "output_type": "stream",
     "text": [
      "廠牌 Toyota\n",
      "車門數 4\n",
      "安全氣囊數 4\n",
      "位置 [0, 0]\n"
     ]
    }
   ],
   "source": [
    "My_car = Utility_Vehicle('Toyota', 4)\n",
    "My_car.detail() "
   ]
  },
  {
   "cell_type": "code",
   "execution_count": 9,
   "metadata": {
    "scrolled": true
   },
   "outputs": [
    {
     "name": "stdout",
     "output_type": "stream",
     "text": [
      "廠牌 Toyota\n",
      "車門數 4\n",
      "安全氣囊數 4\n",
      "位置 [5, 4]\n"
     ]
    }
   ],
   "source": [
    "My_car.drive(5,4)  # drive 是 Vehicle 的方法 \n",
    "My_car.detail() "
   ]
  },
  {
   "attachments": {},
   "cell_type": "markdown",
   "metadata": {},
   "source": [
    "# Practice 3 \n",
    "如同 Utility_Vehicle 的物件，請建立一個 Vehicle 的子類別為工程車(Engineering_Vehicle，車門數為 1)。\n",
    "\n",
    "這台工程車為了在工作中的機動性，除了可以水平移動外，還需要上下移動(z 軸)和面向(c 軸)。\n",
    "\n",
    "屬性和方法如下所示：\n",
    "- 屬性：\n",
    "    - state  – 包含 z, c 軸的 list。(z 的範圍從 0 ~ 10 、c 的範圍是 0 ~ 360 度)\n",
    "- 方法：\n",
    "    - position – 輸入參數為 x, y, z, c，並結合父類別的drive方法，將工程車移動至該狀態。(需先檢查z與c值的輸入是否符合條件，不符合\t\t    就移動到極限停止)\n",
    "\t- detail – print 出工程車的 x, y, z, c 軸。"
   ]
  },
  {
   "cell_type": "code",
   "execution_count": 10,
   "metadata": {},
   "outputs": [
    {
     "name": "stdout",
     "output_type": "stream",
     "text": [
      "x 軸: 0\n",
      "y 軸: 0\n",
      "z 軸: 0\n",
      "c 軸: 0\n",
      "==================================================\n",
      "x 軸: 1\n",
      "y 軸: 2\n",
      "z 軸: 3\n",
      "c 軸: 4\n",
      "==================================================\n",
      "x 軸: 1\n",
      "y 軸: 2\n",
      "z 軸: 5\n",
      "c 軸: 0\n",
      "==================================================\n",
      "x 軸: 1\n",
      "y 軸: 2\n",
      "z 軸: 0\n",
      "c 軸: 20\n",
      "==================================================\n",
      "x 軸: 1\n",
      "y 軸: 2\n",
      "z 軸: 0\n",
      "c 軸: 0\n"
     ]
    }
   ],
   "source": [
    "class Engineering_Vehicle(Vehicle):\n",
    "    def __init__(self):\n",
    "        super().__init__(doors = 1)\n",
    "        self.state = [0, 0]\n",
    "        \n",
    "    def position(self, x, y, z, c):\n",
    "        super().drive(x, y)\n",
    "        self.state[0] = max(min(z, 10), 0)\n",
    "        self.state[1] = max(min(c, 360), 0)\n",
    "        \n",
    "    def detail(self):\n",
    "        print('x 軸:', self.location[0])\n",
    "        print('y 軸:', self.location[1])\n",
    "        print('z 軸:', self.state[0])\n",
    "        print('c 軸:', self.state[1])\n",
    "        \n",
    "My_car = Engineering_Vehicle()\n",
    "My_car.detail()\n",
    "\n",
    "print(\"=\" * 50)\n",
    "My_car.position(1, 2, 3, 4)\n",
    "My_car.detail()\n",
    "\n",
    "print(\"=\" * 50)\n",
    "My_car.position(1, 2, 5, -230)\n",
    "My_car.detail()\n",
    "\n",
    "print(\"=\" * 50)\n",
    "My_car.position(1, 2, -5, 20)\n",
    "My_car.detail()\n",
    "\n",
    "print(\"=\" * 50)\n",
    "My_car.position(1, 2, -10, -100)\n",
    "My_car.detail()"
   ]
  }
 ],
 "metadata": {
  "kernelspec": {
   "display_name": "Python 3",
   "language": "python",
   "name": "python3"
  },
  "language_info": {
   "codemirror_mode": {
    "name": "ipython",
    "version": 3
   },
   "file_extension": ".py",
   "mimetype": "text/x-python",
   "name": "python",
   "nbconvert_exporter": "python",
   "pygments_lexer": "ipython3",
   "version": "3.6.10"
  }
 },
 "nbformat": 4,
 "nbformat_minor": 2
}
