{
 "cells": [
  {
   "cell_type": "markdown",
   "metadata": {},
   "source": [
    "# Function"
   ]
  },
  {
   "cell_type": "code",
   "execution_count": 1,
   "metadata": {},
   "outputs": [
    {
     "name": "stdout",
     "output_type": "stream",
     "text": [
      "7\n"
     ]
    }
   ],
   "source": [
    "def function_name(temp_var1, temp_var2):\n",
    "    print(temp_var1+temp_var2)\n",
    "\n",
    "function_name(3,4)"
   ]
  },
  {
   "cell_type": "code",
   "execution_count": 2,
   "metadata": {},
   "outputs": [
    {
     "ename": "SyntaxError",
     "evalue": "non-default argument follows default argument (<ipython-input-2-0d05709b275f>, line 1)",
     "output_type": "error",
     "traceback": [
      "\u001b[1;36m  File \u001b[1;32m\"<ipython-input-2-0d05709b275f>\"\u001b[1;36m, line \u001b[1;32m1\u001b[0m\n\u001b[1;33m    def function_name(temp_var1 = 3, temp_var2):\u001b[0m\n\u001b[1;37m                     ^\u001b[0m\n\u001b[1;31mSyntaxError\u001b[0m\u001b[1;31m:\u001b[0m non-default argument follows default argument\n"
     ]
    }
   ],
   "source": [
    "def function_name(temp_var1 = 3, temp_var2):\n",
    "    print(temp_var1+temp_var2)\n",
    "\n",
    "function_name(3,4)"
   ]
  },
  {
   "cell_type": "code",
   "execution_count": 3,
   "metadata": {},
   "outputs": [
    {
     "name": "stdout",
     "output_type": "stream",
     "text": [
      "7\n"
     ]
    }
   ],
   "source": [
    "def function_name(temp_var1 = 3, temp_var2 = 4):\n",
    "    print(temp_var1+temp_var2)\n",
    "\n",
    "function_name()"
   ]
  },
  {
   "cell_type": "code",
   "execution_count": 4,
   "metadata": {},
   "outputs": [
    {
     "name": "stdout",
     "output_type": "stream",
     "text": [
      "11\n"
     ]
    }
   ],
   "source": [
    "def function_name(temp_var1 = 3, temp_var2 = 4):\n",
    "    print(temp_var1+temp_var2)\n",
    "\n",
    "function_name(5,6)"
   ]
  },
  {
   "cell_type": "code",
   "execution_count": 5,
   "metadata": {
    "scrolled": true
   },
   "outputs": [
    {
     "name": "stdout",
     "output_type": "stream",
     "text": [
      "7 <class 'int'>\n",
      "7.7 <class 'float'>\n"
     ]
    }
   ],
   "source": [
    "def function_name(input_var1 = 3, input_var2 = 4):\n",
    "    result = input_var1 + input_var2\n",
    "    return result\n",
    "\n",
    "return_value = function_name()\n",
    "print(return_value, type(return_value))\n",
    "\n",
    "return_value = function_name(3.2, 4.5)\n",
    "print(return_value, type(return_value))"
   ]
  },
  {
   "cell_type": "code",
   "execution_count": 6,
   "metadata": {},
   "outputs": [
    {
     "name": "stdout",
     "output_type": "stream",
     "text": [
      "7\n"
     ]
    }
   ],
   "source": [
    "def function_name(input_var1 = 3, input_var2 = 4):\n",
    "    result = input_var1 + input_var2\n",
    "    return result\n",
    "\n",
    "New_name = function_name \n",
    "print(New_name(3,4))"
   ]
  },
  {
   "cell_type": "markdown",
   "metadata": {},
   "source": [
    "# Scope"
   ]
  },
  {
   "cell_type": "code",
   "execution_count": 7,
   "metadata": {},
   "outputs": [
    {
     "name": "stdout",
     "output_type": "stream",
     "text": [
      "False\n"
     ]
    }
   ],
   "source": [
    "def t1():\n",
    "    existflag = True\n",
    "    \n",
    "existflag = False\n",
    "t1()\n",
    "print(existflag)"
   ]
  },
  {
   "cell_type": "code",
   "execution_count": 8,
   "metadata": {},
   "outputs": [
    {
     "name": "stdout",
     "output_type": "stream",
     "text": [
      "True\n"
     ]
    }
   ],
   "source": [
    "def t1():\n",
    "    global existflag\n",
    "    existflag = True\n",
    "    \n",
    "existflag = False\n",
    "t1()\n",
    "print(existflag)"
   ]
  },
  {
   "cell_type": "markdown",
   "metadata": {},
   "source": [
    "# import"
   ]
  },
  {
   "cell_type": "code",
   "execution_count": 9,
   "metadata": {},
   "outputs": [
    {
     "name": "stdout",
     "output_type": "stream",
     "text": [
      "hello from cwd\n"
     ]
    }
   ],
   "source": [
    "from hello import helloFromCwd\n",
    "helloFromCwd()"
   ]
  },
  {
   "cell_type": "code",
   "execution_count": 10,
   "metadata": {
    "scrolled": true
   },
   "outputs": [
    {
     "name": "stdout",
     "output_type": "stream",
     "text": [
      "hello from folder\n"
     ]
    }
   ],
   "source": [
    "from folder.hello import helloFromFolder\n",
    "helloFromFolder()"
   ]
  },
  {
   "cell_type": "markdown",
   "metadata": {},
   "source": [
    "# Thread"
   ]
  },
  {
   "cell_type": "code",
   "execution_count": 11,
   "metadata": {},
   "outputs": [
    {
     "name": "stdout",
     "output_type": "stream",
     "text": [
      "2\n",
      "1\n",
      "12\n",
      "\n",
      "21\n",
      "\n",
      "21\n",
      "\n",
      "21\n",
      "\n"
     ]
    }
   ],
   "source": [
    "import threading\n",
    "import time \n",
    "\n",
    "def function1():    \n",
    "    for i in range(5):        \n",
    "        print(2)        \n",
    "        time.sleep(1) \n",
    "   \n",
    "t1 = threading.Thread(target = function1)\n",
    "t1.start()\n",
    "\n",
    "for i in range(5):    \n",
    "    print(1)    \n",
    "    time.sleep(1)"
   ]
  },
  {
   "cell_type": "markdown",
   "metadata": {},
   "source": [
    "# Practice 1\n",
    "- 請至 moodle 下載 Lab10-1.ipynb，運用 for、if 完成各計算函數的設計(禁止使用內建函數)。\n",
    "- 功能分別是獲取 list 長度(get_length)、獲取 list 元素的總和(get_sum)、獲取 list 元素的均值(get_average)、list 元素的最大值(get_max)、list 元素的最小值(get_min)。"
   ]
  },
  {
   "cell_type": "code",
   "execution_count": 12,
   "metadata": {},
   "outputs": [],
   "source": [
    "def get_length(input_list):\n",
    "    length = 0\n",
    "    for i in input_list:\n",
    "        length += 1\n",
    "    return length"
   ]
  },
  {
   "cell_type": "code",
   "execution_count": 13,
   "metadata": {},
   "outputs": [],
   "source": [
    "def get_sum(input_list):\n",
    "    mysum = 0\n",
    "    for i in input_list:\n",
    "        mysum += i\n",
    "    return mysum"
   ]
  },
  {
   "cell_type": "code",
   "execution_count": 14,
   "metadata": {},
   "outputs": [],
   "source": [
    "def get_average(input_list):\n",
    "    mysum = 0\n",
    "    length = 0\n",
    "    for i in input_list:\n",
    "        mysum += i\n",
    "        length += 1\n",
    "    return mysum / length"
   ]
  },
  {
   "cell_type": "code",
   "execution_count": 15,
   "metadata": {},
   "outputs": [],
   "source": [
    "def get_max(input_list):\n",
    "    maxnum = float('-inf')\n",
    "    for i in input_list:\n",
    "        if i > maxnum: maxnum = i\n",
    "    return maxnum"
   ]
  },
  {
   "cell_type": "code",
   "execution_count": 16,
   "metadata": {},
   "outputs": [],
   "source": [
    "def get_min(input_list):\n",
    "    minnum = float('inf')\n",
    "    for i in input_list:\n",
    "        if i < minnum: minnum = i\n",
    "    return minnum"
   ]
  },
  {
   "cell_type": "code",
   "execution_count": 17,
   "metadata": {},
   "outputs": [
    {
     "name": "stdout",
     "output_type": "stream",
     "text": [
      "get_length: 10\n",
      "get_sum: 1078\n",
      "get_average: 107.8\n",
      "get_max: 200\n",
      "get_min: 9\n"
     ]
    }
   ],
   "source": [
    "data = [200, 47, 9, 105, 164, 29, 175, 39, 160, 150]\n",
    "print(\"get_length:\", get_length(data))\n",
    "print(\"get_sum:\", get_sum(data))\n",
    "print(\"get_average:\", get_average(data))\n",
    "print(\"get_max:\", get_max(data))\n",
    "print(\"get_min:\", get_min(data))"
   ]
  },
  {
   "cell_type": "markdown",
   "metadata": {},
   "source": [
    "# Practice 2\n",
    "- 請至 moodle 下載 lab10-2.ipynb，並檢視函數需求。\n",
    "- 根據右方規則與需求設計一個解密(decoding)函數，並下載儲存於decode.py檔。\n",
    "- 將decode.py與lab5-2檔案上傳至Jupyter notebook，並成功執行lab5-2.ipynb 。\n",
    "- Data = ['6','14','14','3']"
   ]
  },
  {
   "cell_type": "code",
   "execution_count": 18,
   "metadata": {
    "scrolled": true
   },
   "outputs": [
    {
     "name": "stdout",
     "output_type": "stream",
     "text": [
      "good\n"
     ]
    }
   ],
   "source": [
    "from decode import decoding\n",
    "texts = ['a','b','c','d','e','f','g','h','i','j','k','l','m','n','o','p','q','r','s','t','u','v','w','x','y','z',',','.',' ']\n",
    "Data = ['6','14','14','3']\n",
    "decode_data = decoding(Data,texts)\n",
    "print(decode_data)"
   ]
  },
  {
   "cell_type": "markdown",
   "metadata": {},
   "source": [
    "# Practice 3\n",
    "- 請至 moodle 下載 Lab10-3.ipynb，其為一套解密程式，它會用到兩套模組，包括數據分析 analysis、解密 decode，請同學開發 Lab10-3.ipynb 中所需使用的函數，並將其分別儲存於 analysis.py、decode.py 中，使 Lab10-3.ipynb 能順利執行。\n",
    "- Functions:\n",
    "    - [analysis.py]：get_length、get_sum、get_average、get_max、 get_min\n",
    "    - [decode.py]：decoding"
   ]
  },
  {
   "cell_type": "code",
   "execution_count": 19,
   "metadata": {},
   "outputs": [
    {
     "name": "stdout",
     "output_type": "stream",
     "text": [
      "字數： 205\n",
      "總和： 3156\n",
      "平均： 15.395121951219512\n",
      "最大值： 28\n",
      "最小值： 0\n",
      "文章內容： i am so eager to see you again, but i would not ask to see you. not because i am proud in fact, in front of you i cede all my pride, yet only if you asked to see me, our meeting would be meaningful to me. \n"
     ]
    }
   ],
   "source": [
    "from decode import decoding\n",
    "from analysis import *\n",
    "texts = ['a','b','c','d','e','f','g','h','i','j','k','l','m','n','o','p','q','r','s','t','u','v','w','x','y','z',',','.',' ']\n",
    "Data = [8, 28, 0, 12, 28, 18, 14, 28, 4, 0, 6, 4, 17, 28, 19, 14, 28, 18, 4, 4, 28, 24, 14, 20, 28, 0, 6, 0, 8, 13, 26, 28, 1, 20, 19, 28, 8, 28, 22, 14, 20, 11, 3, 28, 13, 14, 19, 28, 0, 18, 10, 28, 19, 14, 28, 18, 4, 4, 28, 24, 14, 20, 27, 28, 13, 14, 19, 28, 1, 4, 2, 0, 20, 18, 4, 28, 8, 28, 0, 12, 28, 15, 17, 14, 20, 3, 28, 8, 13, 28, 5, 0, 2, 19, 26, 28, 8, 13, 28, 5, 17, 14, 13, 19, 28, 14, 5, 28, 24, 14, 20, 28, 8, 28, 2, 4, 3, 4, 28, 0, 11, 11, 28, 12, 24, 28, 15, 17, 8, 3, 4, 26, 28, 24, 4, 19, 28, 14, 13, 11, 24, 28, 8, 5, 28, 24, 14, 20, 28, 0, 18, 10, 4, 3, 28, 19, 14, 28, 18, 4, 4, 28, 12, 4, 26, 28, 14, 20, 17, 28, 12, 4, 4, 19, 8, 13, 6, 28, 22, 14, 20, 11, 3, 28, 1, 4, 28, 12, 4, 0, 13, 8, 13, 6, 5, 20, 11, 28, 19, 14, 28, 12, 4, 27, 28]\n",
    "\n",
    "print('字數：',get_length(Data))\n",
    "print('總和：',get_sum(Data))\n",
    "print('平均：',get_average(Data))\n",
    "print('最大值：',get_max(Data))\n",
    "print('最小值：',get_min(Data))\n",
    "print('文章內容：',decoding(Data,texts))"
   ]
  }
 ],
 "metadata": {
  "kernelspec": {
   "display_name": "Python 3",
   "language": "python",
   "name": "python3"
  },
  "language_info": {
   "codemirror_mode": {
    "name": "ipython",
    "version": 3
   },
   "file_extension": ".py",
   "mimetype": "text/x-python",
   "name": "python",
   "nbconvert_exporter": "python",
   "pygments_lexer": "ipython3",
   "version": "3.6.10"
  }
 },
 "nbformat": 4,
 "nbformat_minor": 4
}
