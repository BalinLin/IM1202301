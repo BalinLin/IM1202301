{
 "cells": [
  {
   "cell_type": "code",
   "execution_count": 1,
   "metadata": {},
   "outputs": [
    {
     "name": "stdout",
     "output_type": "stream",
     "text": [
      "字數： 205\n",
      "總和： 3156\n",
      "平均： 15.395121951219512\n",
      "最大值： 28\n",
      "最小值： 0\n",
      "文章內容： i am so eager to see you again, but i would not ask to see you. not because i am proud in fact, in front of you i cede all my pride, yet only if you asked to see me, our meeting would be meaningful to me. \n"
     ]
    }
   ],
   "source": [
    "from decode import decoding\n",
    "from analysis import *\n",
    "texts = ['a','b','c','d','e','f','g','h','i','j','k','l','m','n','o','p','q','r','s','t','u','v','w','x','y','z',',','.',' ']\n",
    "Data = [8, 28, 0, 12, 28, 18, 14, 28, 4, 0, 6, 4, 17, 28, 19, 14, 28, 18, 4, 4, 28, 24, 14, 20, 28, 0, 6, 0, 8, 13, 26, 28, 1, 20, 19, 28, 8, 28, 22, 14, 20, 11, 3, 28, 13, 14, 19, 28, 0, 18, 10, 28, 19, 14, 28, 18, 4, 4, 28, 24, 14, 20, 27, 28, 13, 14, 19, 28, 1, 4, 2, 0, 20, 18, 4, 28, 8, 28, 0, 12, 28, 15, 17, 14, 20, 3, 28, 8, 13, 28, 5, 0, 2, 19, 26, 28, 8, 13, 28, 5, 17, 14, 13, 19, 28, 14, 5, 28, 24, 14, 20, 28, 8, 28, 2, 4, 3, 4, 28, 0, 11, 11, 28, 12, 24, 28, 15, 17, 8, 3, 4, 26, 28, 24, 4, 19, 28, 14, 13, 11, 24, 28, 8, 5, 28, 24, 14, 20, 28, 0, 18, 10, 4, 3, 28, 19, 14, 28, 18, 4, 4, 28, 12, 4, 26, 28, 14, 20, 17, 28, 12, 4, 4, 19, 8, 13, 6, 28, 22, 14, 20, 11, 3, 28, 1, 4, 28, 12, 4, 0, 13, 8, 13, 6, 5, 20, 11, 28, 19, 14, 28, 12, 4, 27, 28]\n",
    "\n",
    "print('字數：',get_length(Data))\n",
    "print('總和：',get_sum(Data))\n",
    "print('平均：',get_average(Data))\n",
    "print('最大值：',get_max(Data))\n",
    "print('最小值：',get_min(Data))\n",
    "print('文章內容：',decoding(Data,texts))"
   ]
  }
 ],
 "metadata": {
  "kernelspec": {
   "display_name": "Python 3",
   "language": "python",
   "name": "python3"
  },
  "language_info": {
   "codemirror_mode": {
    "name": "ipython",
    "version": 3
   },
   "file_extension": ".py",
   "mimetype": "text/x-python",
   "name": "python",
   "nbconvert_exporter": "python",
   "pygments_lexer": "ipython3",
   "version": "3.6.10"
  }
 },
 "nbformat": 4,
 "nbformat_minor": 2
}
