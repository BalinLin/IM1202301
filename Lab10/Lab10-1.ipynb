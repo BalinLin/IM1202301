{
 "cells": [
  {
   "cell_type": "code",
   "execution_count": null,
   "metadata": {},
   "outputs": [],
   "source": [
    "#question1\n",
    "#計算輸入資料列表的長度\n",
    "def get_length(input_list):\n",
    "    #edit your code here\n",
    "    \n",
    "data = [200, 47, 9, 105, 164, 29, 175, 39, 160, 150]\n",
    "get_length(data)"
   ]
  },
  {
   "cell_type": "code",
   "execution_count": null,
   "metadata": {},
   "outputs": [],
   "source": [
    "#question2\n",
    "#計算輸入資料列表的加總\n",
    "def get_sum(input_list):\n",
    "    #edit your code here\n",
    "    \n",
    "data = [200, 47, 9, 105, 164, 29, 175, 39, 160, 150]\n",
    "get_sum(data)"
   ]
  },
  {
   "cell_type": "code",
   "execution_count": null,
   "metadata": {},
   "outputs": [],
   "source": [
    "#question3\n",
    "#計算輸入資料列表的平均值\n",
    "def get_average(input_list):\n",
    "    #edit your code here\n",
    "    \n",
    "data = [200, 47, 9, 105, 164, 29, 175, 39, 160, 150]\n",
    "get_average(data)"
   ]
  },
  {
   "cell_type": "code",
   "execution_count": null,
   "metadata": {},
   "outputs": [],
   "source": [
    "#question4\n",
    "#計算輸入資料列表的最大值\n",
    "def get_max(input_list):\n",
    "    #edit your code here\n",
    "    \n",
    "data = [200, 47, 9, 105, 164, 29, 175, 39, 160, 150]\n",
    "get_max(data)"
   ]
  },
  {
   "cell_type": "code",
   "execution_count": null,
   "metadata": {},
   "outputs": [],
   "source": [
    "#question5\n",
    "#計算輸入資料列表的最小值\n",
    "def get_min(input_list):\n",
    "    #edit your code here\n",
    "    \n",
    "data = [200, 47, 9, 105, 164, 29, 175, 39, 160, 150]\n",
    "get_min(data)"
   ]
  }
 ],
 "metadata": {
  "kernelspec": {
   "display_name": "Python 3",
   "language": "python",
   "name": "python3"
  },
  "language_info": {
   "codemirror_mode": {
    "name": "ipython",
    "version": 3
   },
   "file_extension": ".py",
   "mimetype": "text/x-python",
   "name": "python",
   "nbconvert_exporter": "python",
   "pygments_lexer": "ipython3",
   "version": "3.6.10"
  }
 },
 "nbformat": 4,
 "nbformat_minor": 2
}
